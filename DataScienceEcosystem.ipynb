{
 "cells": [
  {
   "cell_type": "markdown",
   "id": "26ab2b28",
   "metadata": {},
   "source": [
    "# Data Science Tools and Ecosystem \n"
   ]
  },
  {
   "cell_type": "markdown",
   "id": "7ad8714d",
   "metadata": {},
   "source": [
    "## __Objectives__\n",
    "* Popular Data Science Languages\n",
    "* Commonly ised Libraries\n",
    "* Arithmetic expressions examples"
   ]
  },
  {
   "cell_type": "markdown",
   "id": "f6c02491",
   "metadata": {},
   "source": [
    "## In this notebook. Data Science Tools and Ecosystem are summarized."
   ]
  },
  {
   "cell_type": "markdown",
   "id": "f7c21e5b",
   "metadata": {},
   "source": [
    "## Some of the popular languages that Data Scientists use are:\n",
    "\n",
    "1. Python.\n",
    "2. R.\n",
    "3. Java.\n",
    "4. Scala.\n",
    "5. Go.\n",
    "6. MATLAB. \n",
    "7. Julia.\n",
    "8. C++"
   ]
  },
  {
   "cell_type": "markdown",
   "id": "2dc7842d",
   "metadata": {},
   "source": [
    "# Some of the commonly used libraries used by Data Scientists include:\n",
    "\n",
    "1. Apache Spark.\n",
    "2. Pandas. \n",
    "3. SciPy.\n",
    "4. NumPy.\n",
    "5. Scikit-Learn.\n"
   ]
  },
  {
   "cell_type": "markdown",
   "id": "715029c2",
   "metadata": {},
   "source": [
    "|Data Science Tools|\n",
    "|-|\n",
    "|Jupyter Notebook|\n",
    "|The Anaconda Navigator|\n",
    "|Google Collab|"
   ]
  },
  {
   "cell_type": "markdown",
   "id": "48cd3360",
   "metadata": {},
   "source": [
    "### Below are a few examples of evaluating arithmetic expressions in Python."
   ]
  },
  {
   "cell_type": "code",
   "execution_count": 3,
   "id": "504a3be7",
   "metadata": {},
   "outputs": [
    {
     "data": {
      "text/plain": [
       "17"
      ]
     },
     "execution_count": 3,
     "metadata": {},
     "output_type": "execute_result"
    }
   ],
   "source": [
    "#This a simpLe arithmetic expression to mutipLy then add integers.\n",
    "(3*4)+5"
   ]
  },
  {
   "cell_type": "code",
   "execution_count": 4,
   "id": "fec3fcba",
   "metadata": {},
   "outputs": [
    {
     "data": {
      "text/plain": [
       "3.3333333333333335"
      ]
     },
     "execution_count": 4,
     "metadata": {},
     "output_type": "execute_result"
    }
   ],
   "source": [
    "#This wiLL convert 200 minutes to hours by diving by 60\n",
    "200/60"
   ]
  },
  {
   "cell_type": "markdown",
   "id": "2028c561",
   "metadata": {},
   "source": [
    "## Author\n",
    "Ivan Stepanov"
   ]
  },
  {
   "cell_type": "code",
   "execution_count": null,
   "id": "ca488572",
   "metadata": {},
   "outputs": [],
   "source": []
  }
 ],
 "metadata": {
  "kernelspec": {
   "display_name": "Python 3 (ipykernel)",
   "language": "python",
   "name": "python3"
  },
  "language_info": {
   "codemirror_mode": {
    "name": "ipython",
    "version": 3
   },
   "file_extension": ".py",
   "mimetype": "text/x-python",
   "name": "python",
   "nbconvert_exporter": "python",
   "pygments_lexer": "ipython3",
   "version": "3.11.3"
  }
 },
 "nbformat": 4,
 "nbformat_minor": 5
}
